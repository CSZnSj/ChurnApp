{
 "cells": [
  {
   "cell_type": "code",
   "execution_count": 1,
   "metadata": {},
   "outputs": [],
   "source": [
    "import sys\n",
    "sys.path.append('/home/sajjad/Projects/ChurnApp')"
   ]
  },
  {
   "cell_type": "code",
   "execution_count": 2,
   "metadata": {},
   "outputs": [],
   "source": [
    "from src.utils import *\n",
    "\n",
    "from plot_tools import (\n",
    "    plot_distribution, \n",
    "    plot_aggregated_by_time, \n",
    "    categorize,\n",
    "    plot_analysis_of_loan_recovery,\n",
    "    plot_tops,\n",
    "    categorize_time_difference,\n",
    "    save_fig\n",
    ")"
   ]
  },
  {
   "cell_type": "code",
   "execution_count": 3,
   "metadata": {},
   "outputs": [
    {
     "name": "stderr",
     "output_type": "stream",
     "text": [
      "24/09/23 19:38:47 WARN Utils: Your hostname, sajjad-Legion-5-15ACH6 resolves to a loopback address: 127.0.1.1; using 172.20.176.90 instead (on interface wlp4s0)\n",
      "24/09/23 19:38:47 WARN Utils: Set SPARK_LOCAL_IP if you need to bind to another address\n",
      "Setting default log level to \"WARN\".\n",
      "To adjust logging level use sc.setLogLevel(newLevel). For SparkR, use setLogLevel(newLevel).\n",
      "24/09/23 19:38:48 WARN NativeCodeLoader: Unable to load native-hadoop library for your platform... using builtin-java classes where applicable\n"
     ]
    },
    {
     "name": "stdout",
     "output_type": "stream",
     "text": [
      "2024-09-23 19:38:49 - src.utils - INFO - Spark session created for app: Plots\n",
      "2024-09-23 19:38:49 - src.utils - INFO - Successfully loaded configuration from ../config.json\n",
      "2024-09-23 19:38:49 - src.utils - INFO - Successfully retrieved config value for keys: ('months',)\n"
     ]
    }
   ],
   "source": [
    "spark = create_spark_session(\"Plots\")\n",
    "config = load_config(\"../config.json\")\n",
    "month = get_config_value(config, \"months\")[0]"
   ]
  },
  {
   "cell_type": "markdown",
   "metadata": {},
   "source": [
    "# assign"
   ]
  },
  {
   "cell_type": "code",
   "execution_count": 4,
   "metadata": {},
   "outputs": [
    {
     "name": "stdout",
     "output_type": "stream",
     "text": [
      "2024-09-23 19:38:51 - src.utils - INFO - Attempting to read Parquet file from: ../data/raw/parquet/loan_assign_38.parquet\n"
     ]
    },
    {
     "name": "stderr",
     "output_type": "stream",
     "text": [
      "                                                                                \r"
     ]
    },
    {
     "name": "stdout",
     "output_type": "stream",
     "text": [
      "2024-09-23 19:38:53 - src.utils - INFO - Successfully read Parquet file from: ../data/raw/parquet/loan_assign_38.parquet\n",
      "+--------------------+----------+--------------------+--------------------+---------------+-----------+-------------------+\n",
      "|              bib_id|  date_key|             fake_id|            nid_hash|        loan_id|loan_amount|     date_timestamp|\n",
      "+--------------------+----------+--------------------+--------------------+---------------+-----------+-------------------+\n",
      "|3E6BA06831BAC209C...|2024-04-25| f-9801-000118584098|C586E624BABF2B9E1...|404253777958113|    10000.0|2024-04-25 19:22:06|\n",
      "|189B2E912EF735767...|2024-05-13|f-9801-4800001407...|4F0C1A7FBA96A0666...|405133833577214|    10000.0|2024-05-13 22:21:16|\n",
      "|4D696C26EBAD024FF...|2024-05-20| f-9801-000145513635|4D7B858855D909521...|405203854905914|    10000.0|2024-05-20 20:25:22|\n",
      "|FBBB0B6F6C2489B2C...|2024-05-17| f-9801-000134293069|6534A2D9B98F48EAB...|405173845637126|     5000.0|2024-05-17 22:33:25|\n",
      "|C94E7C58BAE8A192A...|2024-04-24|f-9801-1360003762...|48913AE8C7E502C80...|404243773747600|    10000.0|2024-04-24 12:24:15|\n",
      "|003FBBEA485713B22...|2024-05-17| f-9801-000140351483|77B4AF2E51F91E217...|405173845559222|    20000.0|2024-05-17 22:05:22|\n",
      "|C3C1A6571570F3D45...|2024-05-17| f-9801-000129460720|9A06E24E1D108410B...|405173845136352|     5000.0|2024-05-17 19:53:41|\n",
      "|B5299B41841ED9F89...|2024-05-17|f-9801-3110001281...|3D630A2361F12C731...|405173844259006|    10000.0|2024-05-17 14:30:19|\n",
      "|179C94FFB8ADB3211...|2024-05-16| f-9801-000132593359|67F3CF957210C173F...|405163840484018|    10000.0|2024-05-16 04:06:08|\n",
      "|76FAD3C2E5B4380F7...|2024-05-15| f-9801-000113287547|62ADFD8DB1579BCF9...|405153838689029|    10000.0|2024-05-15 16:22:11|\n",
      "|073CA5EAE430E2473...|2024-05-15| f-9801-000073484288|DC74D13789BC2247F...|405153839612362|    10000.0|2024-05-15 20:53:14|\n",
      "|9F30AFF1AB28C9263...|2024-04-25| f-9801-000102890367|B19B7C14C40FEB700...|404253777525543|     5000.0|2024-04-25 17:08:25|\n",
      "|22029A3B3D4A6627C...|2024-05-17| f-9801-000123791445|C1346D7F3F17F1240...|405173843374077|    10000.0|2024-05-17 02:36:10|\n",
      "|68BCCCE373A094AC4...|2024-05-17|f-9801-0350004278...|DA271455315A5795F...|405173844259574|    10000.0|2024-05-17 14:30:29|\n",
      "|BEF6D493B14439F4B...|2024-05-16| f-9801-000117954995|A78C76F3A16658155...|405163841540725|    10000.0|2024-05-16 14:46:13|\n",
      "|FE48D829AA8D6DE05...|2024-05-15| f-9801-000159293923|D3A8CB135589D4529...|405153838183500|    10000.0|2024-05-15 13:22:10|\n",
      "|BAE15630C2651B1DF...|2024-04-29|f-9801-1880003725...|2A67D11106E713F9E...|404293790577883|    10000.0|2024-04-29 22:01:15|\n",
      "|51FAFD6FE5818E05C...|2024-04-21| f-9801-000127090669|2C69672CF908D0654...|404213765630289|    10000.0|2024-04-21 19:21:27|\n",
      "|859A538A2CD6E3276...|2024-05-13| f-9801-000148074759|2D31EB0494520A387...|405133831157524|    10000.0|2024-05-13 08:28:05|\n",
      "|DEF6049D9F0E96B52...|2024-04-22|f-9801-5210001445...|1E9A472FF805D3F56...|404223768710873|     5000.0|2024-04-22 18:46:09|\n",
      "+--------------------+----------+--------------------+--------------------+---------------+-----------+-------------------+\n",
      "only showing top 20 rows\n",
      "\n"
     ]
    }
   ],
   "source": [
    "assign = read_parquet(spark=spark, parquet_path=f\"../data/raw/parquet/loan_assign_{month}.parquet\")\n",
    "assign.show()"
   ]
  },
  {
   "cell_type": "code",
   "execution_count": 5,
   "metadata": {},
   "outputs": [
    {
     "name": "stdout",
     "output_type": "stream",
     "text": [
      "Figure saved to: output/CountPlot_of_loan_category__month_38.png\n"
     ]
    }
   ],
   "source": [
    "assign = categorize(\n",
    "df=assign, \n",
    "col_name=\"loan_amount\",\n",
    "bins=[float('-inf'), 5000, 10000, 20000, 50000, 100000, float('inf')],\n",
    "labels=[\"VeryLow\", \"5T-10T\", \"10T-20T\", \"20T-50T\", \"50T-100T\", \"Extreme\"],\n",
    "new_column_name=\"loan_category\"\n",
    ")\n",
    "\n",
    "plot_distribution(df=assign, plot_type='count', month=month, x=\"loan_category\")\n"
   ]
  },
  {
   "cell_type": "code",
   "execution_count": 6,
   "metadata": {},
   "outputs": [
    {
     "name": "stderr",
     "output_type": "stream",
     "text": [
      "                                                                                \r"
     ]
    },
    {
     "name": "stdout",
     "output_type": "stream",
     "text": [
      "Figure saved to: output/HistPlot_of_SumAggregated_loan_amount_by_nid__month_38.png\n"
     ]
    }
   ],
   "source": [
    "from pyspark.sql.functions import col, sum\n",
    "\n",
    "aggregated_nid = assign.groupBy(\"nid_hash\").agg(sum(col(\"loan_amount\")).alias(\"SumAggregated_loan_amount_by_nid\"))\n",
    "plot_distribution(df=aggregated_nid.select(\"SumAggregated_loan_amount_by_nid\"), plot_type='hist', month=month, x=\"SumAggregated_loan_amount_by_nid\")"
   ]
  },
  {
   "cell_type": "code",
   "execution_count": 7,
   "metadata": {},
   "outputs": [
    {
     "name": "stdout",
     "output_type": "stream",
     "text": [
      "Figure saved to: output/LinePlot_of_SumAggregated_loan_amount_by_Hour__month_38.png\n",
      "Figure saved to: output/LinePlot_of_SumAggregated_loan_amount_by_DayOfWeek__month_38.png\n",
      "Figure saved to: output/LinePlot_of_SumAggregated_loan_amount_by_DayOfMonth__month_38.png\n"
     ]
    }
   ],
   "source": [
    "plot_aggregated_by_time(df=assign, timestamp_column=\"date_timestamp\", agg_col=\"loan_amount\", month=month)"
   ]
  },
  {
   "cell_type": "markdown",
   "metadata": {},
   "source": [
    "# recovery"
   ]
  },
  {
   "cell_type": "code",
   "execution_count": 10,
   "metadata": {},
   "outputs": [
    {
     "name": "stdout",
     "output_type": "stream",
     "text": [
      "2024-09-23 19:49:50 - src.utils - INFO - Attempting to read Parquet file from: ../data/raw/parquet/loan_recovery_38.parquet\n",
      "2024-09-23 19:49:50 - src.utils - INFO - Successfully read Parquet file from: ../data/raw/parquet/loan_recovery_38.parquet\n",
      "+--------------------+----------+--------------------+--------------------+---------------+-----------+-------------+-------------------+\n",
      "|              bib_id|  date_key|             fake_id|            nid_hash|        loan_id|loan_amount|hsdp_recovery|     date_timestamp|\n",
      "+--------------------+----------+--------------------+--------------------+---------------+-----------+-------------+-------------------+\n",
      "|726655A3EBFDB15AD...|2024-05-05| f-9801-000128588413|AEFABE2A3C4E36954...|405043805446600|    10000.0|       6182.0|2024-05-05 17:55:39|\n",
      "|41E2536B88330EEBF...|2024-04-26| f-9801-000158047302|53588F4DECA562A82...|404253777381174|   100000.0|      80000.0|2024-04-26 17:19:53|\n",
      "|29AAFA6FB5A867B75...|2024-04-26| f-9801-000152658905|79E733A4AEE5A240B...|404263779216231|    10000.0|      10000.0|2024-04-26 09:36:41|\n",
      "|A6687A52409B7EB2E...|2024-05-08|f-9801-1640003312...|0845C6FC7B63DD020...|405053807031601|    10000.0|      10000.0|2024-05-08 10:55:08|\n",
      "|DCD9EC555460D747E...|2024-05-08|f-9801-0860003605...|98236EE8C61BB1106...|405073813210351|     5000.0|       5000.0|2024-05-08 18:08:59|\n",
      "|08B2F8A1D70915648...|2024-05-14| f-9801-000152418531|E0FE58FEF7E6FE40B...|405123828304615|   100000.0|     100000.0|2024-05-14 15:44:09|\n",
      "|7C9D64C977AC272DA...|2024-04-28| f-9801-000120545344|C250E49CA889E865F...|404123744321469|     5000.0|       5000.0|2024-04-28 11:32:19|\n",
      "|60C1CA2D1EF956429...|2024-04-30| f-9801-000160933034|3017FDDF78C1881E8...|404303792563526|    50000.0|      25000.0|2024-04-30 21:45:34|\n",
      "|9BB64D9AC872D0556...|2024-05-20| f-9801-000133624189|7B633585348B46816...|405013794688254|    10000.0|      10000.0|2024-05-20 21:52:56|\n",
      "|B8FE0038B16053526...|2024-05-18| f-9801-000085039172|0B71168D7773736EB...|405083817713746|    10000.0|      10000.0|2024-05-18 10:33:14|\n",
      "|CD304D0FBBB7A0342...|2024-05-05| f-9801-000123786546|02E47E758480C5CEE...|405043803197009|    10000.0|      10000.0|2024-05-05 18:22:02|\n",
      "|2F1C5ADB357E01424...|2024-04-24| f-9801-000129002542|970FB3AA9F00AA863...|404233772030333|    10000.0|      10000.0|2024-04-24 21:00:07|\n",
      "|B9D6B84B4321A4086...|2024-04-27| f-9801-000111063264|71C4EA193E0D60D40...|404273781600550|   100000.0|      47591.0|2024-04-27 23:03:51|\n",
      "|5AEFA5B34987130A0...|2024-04-28|f-9801-1970001916...|87C5CBF2988231C65...|404223767593723|     5000.0|       5000.0|2024-04-28 08:22:21|\n",
      "|3297FDCCFA4F5B164...|2024-05-18| f-9801-000132946640|0EEF08530F2BA48BA...|405153838614837|    10000.0|      10000.0|2024-05-18 20:57:55|\n",
      "|B4E242FFEF0B73302...|2024-05-08| f-9801-000071434979|70539D7F8F1E95BAF...|405033801062813|     5000.0|       5000.0|2024-05-08 12:37:12|\n",
      "|30A91375EEC8CC09B...|2024-05-16| f-9801-000123716368|01CE94C618F7776B2...|405093821026776|    10000.0|      10000.0|2024-05-16 21:05:27|\n",
      "|528B0A446D22882F8...|2024-04-23| f-9801-000159303896|295671ECC80414694...|404223768593918|    10000.0|      10000.0|2024-04-23 12:34:42|\n",
      "|BB3B0EA56F9898826...|2024-05-15| f-9801-000138891637|13B9B6BB9F9CCED33...|405133832908841|   145833.0|     145833.0|2024-05-15 13:42:27|\n",
      "|B7F69D9574E27EC7B...|2024-04-23| f-9801-000143430988|94F92E31AE6FF3DD7...|404123743065783|    10000.0|      10000.0|2024-04-23 15:54:40|\n",
      "+--------------------+----------+--------------------+--------------------+---------------+-----------+-------------+-------------------+\n",
      "only showing top 20 rows\n",
      "\n"
     ]
    }
   ],
   "source": [
    "recovery = read_parquet(spark=spark, parquet_path=f\"../data/raw/parquet/loan_recovery_{month}.parquet\")\n",
    "recovery.show()"
   ]
  },
  {
   "cell_type": "code",
   "execution_count": 11,
   "metadata": {},
   "outputs": [
    {
     "name": "stdout",
     "output_type": "stream",
     "text": [
      "Figure saved to: output/Comparison of Recovered and Assigned Loan Amounts --- 82.00% of loan_amounts are recovered.png\n"
     ]
    }
   ],
   "source": [
    "plot_analysis_of_loan_recovery(assign=assign, recovery=recovery)"
   ]
  },
  {
   "cell_type": "markdown",
   "metadata": {},
   "source": [
    "# package"
   ]
  },
  {
   "cell_type": "code",
   "execution_count": 13,
   "metadata": {},
   "outputs": [
    {
     "name": "stdout",
     "output_type": "stream",
     "text": [
      "2024-09-23 19:51:36 - src.utils - INFO - Attempting to read Parquet file from: ../data/raw/parquet/package_38.parquet\n",
      "2024-09-23 19:51:36 - src.utils - INFO - Successfully read Parquet file from: ../data/raw/parquet/package_38.parquet\n",
      "+--------------------+----------+--------------------+--------------------+-------------+------------+--------------------+-------------------+-------------------+\n",
      "|              bib_id|  date_key|             fake_id|            nid_hash|offering_code|offer_amount|       offering_name|    activation_date|  deactivation_date|\n",
      "+--------------------+----------+--------------------+--------------------+-------------+------------+--------------------+-------------------+-------------------+\n",
      "|3CC6F1606EA449905...|2024-04-27| f-9801-000086491524|D8FBDE325D0503508...|    PO2025XOI|    155000.0|      15 Days 1 5 GB|2024-04-27 12:24:18|2024-05-12 23:59:59|\n",
      "|EAAF83DD232522F30...|2024-04-23|f-9801-3950002593...|1E24BBB952A5D185F...|    PO2106HBH|    485000.0|         60Days 10GB|2024-04-23 20:00:51|2024-06-22 23:59:59|\n",
      "|306EED17C0EE2183B...|2024-05-03|f-9801-0680004792...|126D129F1563AE6D0...|        62471|         0.0|     1 GB free  data|2024-05-03 21:26:09|2024-05-03 23:59:59|\n",
      "|1CBAF76B344DC6916...|2024-05-14|f-9801-5030001590...|10993D657256FE800...|    PO2062VTH|    148000.0|         3Days 2 5GB|2024-05-14 23:59:36|2024-05-17 23:59:36|\n",
      "|65B94C3B4666089FA...|2024-04-25| f-9801-000102171122|96276A29FCA599C05...|        62471|         0.0|     1 GB free  data|2024-04-25 08:02:46|2024-04-25 23:59:59|\n",
      "|8A618A8CD54A346CA...|2024-05-09| f-9801-000070217004|DF90C421D1F89B8E0...|    PO2397HBH|    718000.0|18GB 15 Days 71800 T|2024-05-09 09:43:07|2024-05-24 09:43:07|\n",
      "|42E5BABBAABE97BF8...|2024-05-16|f-9801-1100004640...|11E861976BB11177E...|        62353|         0.0|  3GB Free for 1 Day|2024-05-16 21:48:47|2024-05-17 21:48:47|\n",
      "|019D5225C91E11AF3...|2024-04-25| f-9801-000132271990|7F7595F75689DB4FF...|    PO2106HBH|    485000.0|         60Days 10GB|2024-04-25 22:53:24|2024-06-24 23:59:59|\n",
      "|1095AC1575BCAD866...|2024-04-25| f-9801-000145340785|42A22F4A67325A1E1...|    PO2106HBH|    485000.0|         60Days 10GB|2024-04-25 22:29:38|2024-06-24 23:59:59|\n",
      "|E0B97E6A3F0D50569...|2024-04-30|f-9801-0900000516...|F65C003B1D6426398...|        62473|         0.0|1GB hourly Gift B...|2024-04-30 12:30:15|2024-04-30 23:59:59|\n",
      "|1C6AF51C6D95D81A8...|2024-05-09| f-9801-000101145979|AB0EC93E1E8C87267...|    PO1994VTH|    380000.0|         Monthly 7GB|2024-05-09 10:46:37|2024-06-08 23:59:59|\n",
      "|8448FB395A8AB778C...|2024-05-14| f-9801-000159406334|2915EF0CC713482D5...|    PO1995VTH|    255000.0|         Monthly 3GB|2024-05-14 21:27:03|2024-06-13 23:59:59|\n",
      "|CB0C2A86B1CC25A02...|2024-05-14|f-9801-5620001326...|D711A7447A4021932...|    PO1995VTH|    255000.0|         Monthly 3GB|2024-05-14 12:55:52|2024-06-13 23:59:59|\n",
      "|4E7E285E0DDA6A3A9...|2024-04-25| f-9801-000127174109|6D8137B6C56E89517...|    PO1993XOI|    317000.0|         Monthly 5GB|2024-04-25 17:10:02|2024-05-25 23:59:59|\n",
      "|F3A34F39A378B1399...|2024-05-16| f-9801-000166482205|2B66983CC36CF8195...|    PO1462ZCY|    217500.0|5GB data 15days 2...|2024-05-16 18:48:59|2024-05-31 23:59:59|\n",
      "|F3A34F39A378B1399...|2024-05-16| f-9801-000166482205|2B66983CC36CF8195...|    PO1462ZCY|    217500.0|5GB data 15days 2...|2024-05-16 18:50:15|2024-05-31 23:59:59|\n",
      "|EEBBD5B4E5D9AA804...|2024-05-16|f-9801-4450003164...|FDF56940FB48E2567...|    PO2700AAS|     18000.0|Smart Bolton 300 ...|2024-05-16 21:14:37|2024-05-16 22:14:37|\n",
      "|4F5FCCB899A5858C7...|2024-05-14| f-9801-000145849748|729183A9AA7FC6FFF...|    PO1994VTH|    380000.0|         Monthly 7GB|2024-05-14 15:25:26|2024-06-13 23:59:59|\n",
      "|A65942ABDFB93AEB9...|2024-05-10| f-9801-000121321021|BF0A2462851E47D87...|    PO1484ZCY|     36500.0|1GB data 1days 36...|2024-05-10 15:51:45|2024-05-11 23:59:59|\n",
      "|BBDFFCDFF56408D45...|2024-05-01|f-9801-1860004739...|9CC737D66A70F2518...|    PO2715AAS|     45000.0|Smart Bolton 1GB ...|2024-05-01 23:43:59|2024-05-02 00:43:59|\n",
      "+--------------------+----------+--------------------+--------------------+-------------+------------+--------------------+-------------------+-------------------+\n",
      "only showing top 20 rows\n",
      "\n"
     ]
    }
   ],
   "source": [
    "package = read_parquet(spark=spark, parquet_path=f\"../data/raw/parquet/package_{month}.parquet\")\n",
    "package.show()"
   ]
  },
  {
   "cell_type": "code",
   "execution_count": 14,
   "metadata": {},
   "outputs": [
    {
     "name": "stdout",
     "output_type": "stream",
     "text": [
      "+--------------------+----------+--------------------+--------------------+-------------+------------+--------------------+-------------------+-------------------+--------------------+-----------------+\n",
      "|              bib_id|  date_key|             fake_id|            nid_hash|offering_code|offer_amount|       offering_name|    activation_date|  deactivation_date|time_difference_days|duration_category|\n",
      "+--------------------+----------+--------------------+--------------------+-------------+------------+--------------------+-------------------+-------------------+--------------------+-----------------+\n",
      "|3CC6F1606EA449905...|2024-04-27| f-9801-000086491524|D8FBDE325D0503508...|    PO2025XOI|    155000.0|      15 Days 1 5 GB|2024-04-27 12:24:18|2024-05-12 23:59:59|                  15|     Half-Monthly|\n",
      "|EAAF83DD232522F30...|2024-04-23|f-9801-3950002593...|1E24BBB952A5D185F...|    PO2106HBH|    485000.0|         60Days 10GB|2024-04-23 20:00:51|2024-06-22 23:59:59|                  60|         2 Months|\n",
      "|306EED17C0EE2183B...|2024-05-03|f-9801-0680004792...|126D129F1563AE6D0...|        62471|         0.0|     1 GB free  data|2024-05-03 21:26:09|2024-05-03 23:59:59|                   0|         Same Day|\n",
      "|1CBAF76B344DC6916...|2024-05-14|f-9801-5030001590...|10993D657256FE800...|    PO2062VTH|    148000.0|         3Days 2 5GB|2024-05-14 23:59:36|2024-05-17 23:59:36|                   3|           Weekly|\n",
      "|65B94C3B4666089FA...|2024-04-25| f-9801-000102171122|96276A29FCA599C05...|        62471|         0.0|     1 GB free  data|2024-04-25 08:02:46|2024-04-25 23:59:59|                   0|         Same Day|\n",
      "|8A618A8CD54A346CA...|2024-05-09| f-9801-000070217004|DF90C421D1F89B8E0...|    PO2397HBH|    718000.0|18GB 15 Days 71800 T|2024-05-09 09:43:07|2024-05-24 09:43:07|                  15|     Half-Monthly|\n",
      "|42E5BABBAABE97BF8...|2024-05-16|f-9801-1100004640...|11E861976BB11177E...|        62353|         0.0|  3GB Free for 1 Day|2024-05-16 21:48:47|2024-05-17 21:48:47|                   1|            Daily|\n",
      "|019D5225C91E11AF3...|2024-04-25| f-9801-000132271990|7F7595F75689DB4FF...|    PO2106HBH|    485000.0|         60Days 10GB|2024-04-25 22:53:24|2024-06-24 23:59:59|                  60|         2 Months|\n",
      "|1095AC1575BCAD866...|2024-04-25| f-9801-000145340785|42A22F4A67325A1E1...|    PO2106HBH|    485000.0|         60Days 10GB|2024-04-25 22:29:38|2024-06-24 23:59:59|                  60|         2 Months|\n",
      "|E0B97E6A3F0D50569...|2024-04-30|f-9801-0900000516...|F65C003B1D6426398...|        62473|         0.0|1GB hourly Gift B...|2024-04-30 12:30:15|2024-04-30 23:59:59|                   0|         Same Day|\n",
      "|1C6AF51C6D95D81A8...|2024-05-09| f-9801-000101145979|AB0EC93E1E8C87267...|    PO1994VTH|    380000.0|         Monthly 7GB|2024-05-09 10:46:37|2024-06-08 23:59:59|                  30|          Monthly|\n",
      "|8448FB395A8AB778C...|2024-05-14| f-9801-000159406334|2915EF0CC713482D5...|    PO1995VTH|    255000.0|         Monthly 3GB|2024-05-14 21:27:03|2024-06-13 23:59:59|                  30|          Monthly|\n",
      "|CB0C2A86B1CC25A02...|2024-05-14|f-9801-5620001326...|D711A7447A4021932...|    PO1995VTH|    255000.0|         Monthly 3GB|2024-05-14 12:55:52|2024-06-13 23:59:59|                  30|          Monthly|\n",
      "|4E7E285E0DDA6A3A9...|2024-04-25| f-9801-000127174109|6D8137B6C56E89517...|    PO1993XOI|    317000.0|         Monthly 5GB|2024-04-25 17:10:02|2024-05-25 23:59:59|                  30|          Monthly|\n",
      "|F3A34F39A378B1399...|2024-05-16| f-9801-000166482205|2B66983CC36CF8195...|    PO1462ZCY|    217500.0|5GB data 15days 2...|2024-05-16 18:48:59|2024-05-31 23:59:59|                  15|     Half-Monthly|\n",
      "|F3A34F39A378B1399...|2024-05-16| f-9801-000166482205|2B66983CC36CF8195...|    PO1462ZCY|    217500.0|5GB data 15days 2...|2024-05-16 18:50:15|2024-05-31 23:59:59|                  15|     Half-Monthly|\n",
      "|EEBBD5B4E5D9AA804...|2024-05-16|f-9801-4450003164...|FDF56940FB48E2567...|    PO2700AAS|     18000.0|Smart Bolton 300 ...|2024-05-16 21:14:37|2024-05-16 22:14:37|                   0|         Same Day|\n",
      "|4F5FCCB899A5858C7...|2024-05-14| f-9801-000145849748|729183A9AA7FC6FFF...|    PO1994VTH|    380000.0|         Monthly 7GB|2024-05-14 15:25:26|2024-06-13 23:59:59|                  30|          Monthly|\n",
      "|A65942ABDFB93AEB9...|2024-05-10| f-9801-000121321021|BF0A2462851E47D87...|    PO1484ZCY|     36500.0|1GB data 1days 36...|2024-05-10 15:51:45|2024-05-11 23:59:59|                   1|            Daily|\n",
      "|BBDFFCDFF56408D45...|2024-05-01|f-9801-1860004739...|9CC737D66A70F2518...|    PO2715AAS|     45000.0|Smart Bolton 1GB ...|2024-05-01 23:43:59|2024-05-02 00:43:59|                   1|            Daily|\n",
      "+--------------------+----------+--------------------+--------------------+-------------+------------+--------------------+-------------------+-------------------+--------------------+-----------------+\n",
      "only showing top 20 rows\n",
      "\n"
     ]
    }
   ],
   "source": [
    "diff = categorize_time_difference(df=package)\n",
    "diff.show()"
   ]
  },
  {
   "cell_type": "code",
   "execution_count": 15,
   "metadata": {},
   "outputs": [
    {
     "name": "stdout",
     "output_type": "stream",
     "text": [
      "Figure saved to: output/top_10_popular_duration_categorys__month_38.png\n"
     ]
    }
   ],
   "source": [
    "plot_tops(diff, col_name=\"duration_category\", index=10, month=month)"
   ]
  },
  {
   "cell_type": "code",
   "execution_count": 16,
   "metadata": {},
   "outputs": [
    {
     "name": "stdout",
     "output_type": "stream",
     "text": [
      "Figure saved to: output/top_25_popular_offering_names__month_38.png\n"
     ]
    }
   ],
   "source": [
    "plot_tops(df=package, col_name=\"offering_name\", index=25, month=month)"
   ]
  },
  {
   "cell_type": "markdown",
   "metadata": {},
   "source": [
    "# recharge"
   ]
  },
  {
   "cell_type": "code",
   "execution_count": 17,
   "metadata": {},
   "outputs": [
    {
     "name": "stdout",
     "output_type": "stream",
     "text": [
      "2024-09-23 19:52:42 - src.utils - INFO - Attempting to read Parquet file from: ../data/raw/parquet/recharge_38.parquet\n",
      "2024-09-23 19:52:42 - src.utils - INFO - Successfully read Parquet file from: ../data/raw/parquet/recharge_38.parquet\n",
      "+--------------------+----------+--------------------+--------------------+------------------+-------------------+--------------+--------------------------+-------------------------+\n",
      "|              bib_id|  date_key|             fake_id|            nid_hash|recharge_value_amt|        recharge_dt|origin_host_nm|account_balance_before_amt|account_balance_after_amt|\n",
      "+--------------------+----------+--------------------+--------------------+------------------+-------------------+--------------+--------------------------+-------------------------+\n",
      "|6691FBCA0320E1410...|2024-04-24| f-9801-000133407354|CC910C691906145A3...|           10000.0|2024-04-24 18:24:09|    MFSEREFILL|                    4742.0|                  14742.0|\n",
      "|6691FBCA0320E1410...|2024-05-04| f-9801-000133407354|CC910C691906145A3...|          200000.0|2024-05-04 11:57:57|       drvl506|                   10132.0|                 210132.0|\n",
      "|6691FBCA0320E1410...|2024-05-04| f-9801-000133407354|CC910C691906145A3...|           50000.0|2024-05-04 12:02:30|    MFSEREFILL|                  224404.0|                 274404.0|\n",
      "|FF6A07B353637A09C...|2024-05-04| f-9801-000146316645|47F31F795C7F25C32...|          181818.0|2024-05-04 11:51:10|    MFSEREFILL|                    9987.0|                 191805.0|\n",
      "|FF6A07B353637A09C...|2024-05-04| f-9801-000146316645|47F31F795C7F25C32...|          181818.0|2024-05-04 11:53:09|    MFSEREFILL|                  180805.0|                 362623.0|\n",
      "|5ECF78E525CB11279...|2024-04-21| f-9801-000154461346|2FDA5D97F7844C3D9...|           10000.0|2024-04-21 14:18:09|    MFSEREFILL|                    4973.0|                  14973.0|\n",
      "|35136BE83280F5E32...|2024-05-20| f-9801-000097717211|56AC8E080300BE294...|          409091.0|2024-05-20 00:00:59|    MFSEREFILL|                  126080.0|                 535171.0|\n",
      "|1475629FB7D57F044...|2024-04-23| f-9801-000159759490|3904FCD53FDE31010...|           10000.0|2024-04-23 12:20:10|    MFSEREFILL|                    4667.0|                  14667.0|\n",
      "|51AB56ABC1798A0FE...|2024-05-03| f-9801-000088410999|FC2A79C50B80934A6...|           10000.0|2024-05-03 01:59:08|    MFSEREFILL|                    1062.0|                  11062.0|\n",
      "|51AB56ABC1798A0FE...|2024-04-27| f-9801-000088410999|FC2A79C50B80934A6...|           10000.0|2024-04-27 09:56:04|    MFSEREFILL|                    1932.0|                  11932.0|\n",
      "|5ECF78E525CB11279...|2024-04-21| f-9801-000154461346|2FDA5D97F7844C3D9...|          200000.0|2024-04-21 12:43:13|    MFSEREFILL|                       6.0|                 200006.0|\n",
      "|776432FADF53732C0...|2024-05-06| f-9801-000121156012|2A50519266C6FB620...|           10000.0|2024-05-06 13:05:11|    MFSEREFILL|                    3815.0|                  13815.0|\n",
      "|F86A055BD0C500913...|2024-05-15| f-9801-000113275621|F010638E10AAA4BE6...|           20000.0|2024-05-15 21:51:26|    MFSEREFILL|                   13410.0|                  33410.0|\n",
      "|BCE02CC0437509D4E...|2024-04-22| f-9801-000146450053|33C2D9F890FE11158...|           10000.0|2024-04-22 15:53:11|    MFSEREFILL|                    4649.0|                  14649.0|\n",
      "|2E84F25015891F24C...|2024-04-20|f-9801-4280000893...|C5EC91E7A6970BF24...|           45455.0|2024-04-20 19:14:51|    MFSEREFILL|                      10.0|                  45465.0|\n",
      "|5A00BEAAA0CC5C58E...|2024-05-08| f-9801-000087999925|5B67B154D8230733F...|           10000.0|2024-05-08 13:49:08|    MFSEREFILL|                    3892.0|                  13892.0|\n",
      "|055C89556F992D90F...|2024-05-11| f-9801-000165493506|9E4F6774EAFF1CFB3...|          363636.0|2024-05-11 19:57:14|    MFSEREFILL|                     545.0|                 364181.0|\n",
      "|DEF578C3448A819E4...|2024-05-02| f-9801-000132190943|9291AD7940BEFAE9A...|          200000.0|2024-05-02 12:39:07|    MFSEREFILL|                  218940.0|                 418940.0|\n",
      "|3A183E4A924C16915...|2024-04-27|f-9801-2760003516...|EBF4948023BF5C5D3...|          100000.0|2024-04-27 09:54:33|       drvl506|                       8.0|                 100008.0|\n",
      "|70DB04D24F7AF5EE5...|2024-05-09| f-9801-000145497179|AD51E8E154146460C...|           18182.0|2024-05-09 09:35:07|    MFSEREFILL|                       4.0|                  18186.0|\n",
      "+--------------------+----------+--------------------+--------------------+------------------+-------------------+--------------+--------------------------+-------------------------+\n",
      "only showing top 20 rows\n",
      "\n"
     ]
    }
   ],
   "source": [
    "recharge = read_parquet(spark=spark, parquet_path=f\"../data/raw/parquet/recharge_{month}.parquet\")\n",
    "recharge.show()"
   ]
  },
  {
   "cell_type": "code",
   "execution_count": 18,
   "metadata": {},
   "outputs": [
    {
     "name": "stdout",
     "output_type": "stream",
     "text": [
      "Figure saved to: output/CountPlot_of_recharge_category__month_38.png\n"
     ]
    }
   ],
   "source": [
    "recharge = categorize(\n",
    "    df=recharge, \n",
    "    col_name=\"recharge_value_amt\", \n",
    "    bins=[float('-inf'), 10000, 20000, 50000, 100000, 200000, 500000, float('inf')],\n",
    "    labels=[\"1T\", \"2T\", \"5T\", \"10T\", \"20T\", \"50T\", \"More\"],\n",
    "    new_column_name=\"recharge_category\"\n",
    ")\n",
    "\n",
    "plot_distribution(df=recharge.select(\"recharge_category\"), plot_type='count', month=month, x=\"recharge_category\")"
   ]
  },
  {
   "cell_type": "code",
   "execution_count": 19,
   "metadata": {},
   "outputs": [
    {
     "name": "stdout",
     "output_type": "stream",
     "text": [
      "Figure saved to: output/LinePlot_of_SumAggregated_recharge_value_amt_by_Hour__month_38.png\n",
      "Figure saved to: output/LinePlot_of_SumAggregated_recharge_value_amt_by_DayOfWeek__month_38.png\n",
      "Figure saved to: output/LinePlot_of_SumAggregated_recharge_value_amt_by_DayOfMonth__month_38.png\n"
     ]
    }
   ],
   "source": [
    "plot_aggregated_by_time(df=recharge, timestamp_column=\"recharge_dt\", agg_col=\"recharge_value_amt\", month=month )"
   ]
  },
  {
   "cell_type": "markdown",
   "metadata": {},
   "source": [
    "# user"
   ]
  },
  {
   "cell_type": "code",
   "execution_count": 20,
   "metadata": {},
   "outputs": [
    {
     "name": "stdout",
     "output_type": "stream",
     "text": [
      "2024-09-23 19:54:03 - src.utils - INFO - Attempting to read Parquet file from: ../data/raw/parquet/user_38.parquet\n",
      "2024-09-23 19:54:03 - src.utils - INFO - Successfully read Parquet file from: ../data/raw/parquet/user_38.parquet\n",
      "+--------------------+--------------------+--------------------+---------------+--------+-------------------+---------------+--------------+---------------+---------------+-----+\n",
      "|              bib_id|             fake_id|            nid_hash|contract_type_v|gender_v|registration_date_d|date_of_birth_d|ability_status|account_balance|base_station_cd|sitei|\n",
      "+--------------------+--------------------+--------------------+---------------+--------+-------------------+---------------+--------------+---------------+---------------+-----+\n",
      "|49E6FDF4EEB2E89FC...| f-9801-000085090724|8A06499703399382F...|              P|       F|         2016-12-03|     1995-06-20|        Active|   27966.666667|      LE1153XA5|E1153|\n",
      "|2702ED39052AF2D9F...| f-9801-000125775769|4F3B4EF23B7880445...|              N|       M|         2007-04-07|     1985-09-21|        Active|            0.0|      LT1934XB3|T1934|\n",
      "|97E453BE21B123C80...| f-9801-000124575375|C5ADDFD8E4A4BFDF8...|              P|       M|         2020-03-17|     1979-11-24|        Active|       0.250001|      LH2152XA2|H2152|\n",
      "|7622EAF226F0906DE...|                NULL|46869F3C47006175D...|              P|       M|         2024-01-23|     1993-04-25|        Active|            0.0|      LH8957XB1|H8957|\n",
      "|958E815E3DECCB99D...| f-9801-000120255366|72C5B0F6D44976248...|              N|       F|         2019-09-13|     1957-08-07|        Active|            0.0|      LE1895XC1|E1895|\n",
      "|B86F6A28374ED017E...| f-9801-000092487169|76944824861E3F880...|              P|       F|         2017-06-12|     1983-07-06|        Active|  214284.066679|      LT7135XB2|T7135|\n",
      "|8CC7CC76A7F4644F0...| f-9801-000097161909|757A0B243A1C746B1...|              P|       M|         2018-02-10|     1977-09-19|        Active|            0.0|      LN4100XD8|N4100|\n",
      "|257325A46D0A8FB75...|                NULL|51E84EEBB2F3A9AC0...|              P|       M|         2018-08-30|     1986-05-22|        Active|        10174.0|           NULL| NULL|\n",
      "|1BA396B82B9504535...| f-9801-000143731892|161A7C94FD05BE046...|              N|       F|         2021-11-16|     1963-09-19|        Active|            0.0|      LH1376XA3|H1376|\n",
      "|5DB9BB05F85EB7BD8...|f-9801-5330002697...|A7E6FD9EA06CE876E...|              N|       F|         2017-08-10|     1959-04-09|        Active|            0.0|      UT2645XC0|T2645|\n",
      "|ED21A37C384C6086A...| f-9801-000156159380|700162BC21A90BD0A...|              P|       M|         2022-12-08|     1936-03-21|        Active|  267742.233335|      UT9533XA4|T9533|\n",
      "|DCC8EB957E3594CDA...|                NULL|32C321FBB51C4F2C5...|              P|       M|         2023-05-27|     2000-02-26|        Active|         4587.0|      LT5967XE1|T5967|\n",
      "|A4FC7EB76201E004E...|                NULL|4EE63E4AFCCE14E73...|              P|       M|         2021-12-02|     1987-03-25|        Active|            0.1|           NULL| NULL|\n",
      "|6D22187BEC5AA33D0...|f-9801-3480005245...|6A8A040D6D7640CCA...|              P|       F|         2007-10-14|     1954-09-11|        Active|      12.133395|           NULL| NULL|\n",
      "|38F8191C623B49CC0...|f-9801-1680004688...|80A9A9C7B21491909...|              P|       M|         2015-06-21|     1991-03-14|        Active|       0.233329|      LT7504XC5|T7504|\n",
      "|F31864412377F5712...| f-9801-000150844599|D68B3925F48E5CD28...|              P|       M|         2019-08-15|     1995-10-16|        Active|            0.0|      LN4880XB1|N4880|\n",
      "|D16C4ECBBCFAA8B18...| f-9801-000158194482|AD579973269B0C183...|              P|       M|         2023-02-14|     1950-04-21|        Active|   83076.733334|      LE1557XA1|E1557|\n",
      "|EE0232C9DDE3B8CE7...| f-9801-000157259073|EE3628CD70CF4D1F8...|              P|       M|         2022-12-22|     1985-01-26|        Active|            0.0|           NULL| NULL|\n",
      "|A98D5BCC71E880A71...| f-9801-000121439077|76AED86753F657B4C...|              N|       M|         2019-12-05|     1991-12-05|        Active|            0.0|      LT1879XC1|T1879|\n",
      "|B35DA6565C6C80A29...| f-9801-000163535178|80E142755429D0AF0...|              P|       F|         2024-01-18|     1981-02-15|        Active|    6166.666664|      UE5462XB1|E5462|\n",
      "+--------------------+--------------------+--------------------+---------------+--------+-------------------+---------------+--------------+---------------+---------------+-----+\n",
      "only showing top 20 rows\n",
      "\n"
     ]
    }
   ],
   "source": [
    "user = read_parquet(spark=spark, parquet_path=f\"../data/raw/parquet/user_{month}.parquet\")\n",
    "user.show()"
   ]
  },
  {
   "cell_type": "code",
   "execution_count": 22,
   "metadata": {},
   "outputs": [
    {
     "data": {
      "text/plain": [
       "<Axes: ylabel='count'>"
      ]
     },
     "execution_count": 22,
     "metadata": {},
     "output_type": "execute_result"
    },
    {
     "data": {
      "image/png": "[encoded data removed]",
      "text/plain": [
       "<Figure size 640x480 with 1 Axes>"
      ]
     },
     "metadata": {},
     "output_type": "display_data"
    }
   ],
   "source": [
    "user.select(\"gender_v\").toPandas().value_counts().plot(kind=\"pie\")"
   ]
  }
 ],
 "metadata": {
  "kernelspec": {
   "display_name": "data_stream",
   "language": "python",
   "name": "python3"
  },
  "language_info": {
   "codemirror_mode": {
    "name": "ipython",
    "version": 3
   },
   "file_extension": ".py",
   "mimetype": "text/x-python",
   "name": "python",
   "nbconvert_exporter": "python",
   "pygments_lexer": "ipython3",
   "version": "3.10.12"
  }
 },
 "nbformat": 4,
 "nbformat_minor": 2
}
